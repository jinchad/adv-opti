{
 "cells": [
  {
   "cell_type": "code",
   "execution_count": 5,
   "metadata": {},
   "outputs": [],
   "source": [
    "import pulp \n"
   ]
  },
  {
   "cell_type": "code",
   "execution_count": 7,
   "metadata": {},
   "outputs": [],
   "source": [
    "prob = pulp.LpProblem(\"myProblem\", pulp.LpMinimize)\n"
   ]
  },
  {
   "cell_type": "code",
   "execution_count": 12,
   "metadata": {},
   "outputs": [
    {
     "name": "stderr",
     "output_type": "stream",
     "text": [
      "/Users/jin/Documents/GitHub/adv-opti/venv/lib/python3.11/site-packages/pulp/pulp.py:1650: UserWarning: Overwriting previously set objective.\n",
      "  warnings.warn(\"Overwriting previously set objective.\")\n"
     ]
    }
   ],
   "source": [
    "MAX_WIDTH = MAX_HEIGHT = 20\n",
    "\n",
    "\n",
    "W = pulp.LpVariable(\"W\", 0, MAX_WIDTH)\n",
    "H = pulp.LpVariable(\"H\", 0, MAX_HEIGHT)\n",
    "\n",
    "prob += 2*(W+H)\n"
   ]
  },
  {
   "cell_type": "code",
   "execution_count": 13,
   "metadata": {},
   "outputs": [],
   "source": [
    "# components dictionary stores the width and height of each motherboard component\n",
    "components = {\n",
    "    # For square-shaped components, \"Component name\": [component_width, component)length] \n",
    "    # For circular-shaped, \"Component name\": [component_radius]\n",
    "    \"Chipset\": [5,5],\n",
    "    \"CPU\": [3,3],\n",
    "    \"Cooling fan\": [5],\n",
    "    \"CMOS battery\": [3],\n",
    "    \"BIOS\": [3,3],\n",
    "    \"Power converter\": [2,1],\n",
    "    \"USB converter\": [2,1],\n",
    "    \"RAM Memory Stick 1\": [2,10],\n",
    "    \"RAM Memory Stick 2\": [2,10],\n",
    "    \"RAM Memory Stick 3\": [2,10],\n",
    "    \"RAM Memory Stick 4\": [2,10]\n",
    "}\n",
    "\n",
    "# List containing the x coordinate of each component\n",
    "x = [pulp.LpVariable(f\"x_{i}\", lowBound= 0, upBound=MAX_WIDTH) for i in range(len(components))]\n",
    "\n",
    "# List containing the y coordinate of each component\n",
    "y = [pulp.LpVariable(f\"y_{i}\", lowBound= 0, upBound=MAX_HEIGHT) for i in range(len(components))]"
   ]
  },
  {
   "cell_type": "code",
   "execution_count": null,
   "metadata": {},
   "outputs": [],
   "source": [
    "#Adding vertical constraints\n",
    "\n"
   ]
  }
 ],
 "metadata": {
  "kernelspec": {
   "display_name": "venv",
   "language": "python",
   "name": "python3"
  },
  "language_info": {
   "codemirror_mode": {
    "name": "ipython",
    "version": 3
   },
   "file_extension": ".py",
   "mimetype": "text/x-python",
   "name": "python",
   "nbconvert_exporter": "python",
   "pygments_lexer": "ipython3",
   "version": "3.11.0"
  }
 },
 "nbformat": 4,
 "nbformat_minor": 2
}
