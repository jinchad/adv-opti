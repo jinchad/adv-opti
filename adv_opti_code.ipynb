{
 "cells": [
  {
   "cell_type": "code",
   "execution_count": 2,
   "metadata": {},
   "outputs": [
    {
     "name": "stdout",
     "output_type": "stream",
     "text": [
      "Collecting pulp\n",
      "  Using cached PuLP-2.9.0-py3-none-any.whl.metadata (5.4 kB)\n",
      "Using cached PuLP-2.9.0-py3-none-any.whl (17.7 MB)\n",
      "Installing collected packages: pulp\n",
      "Successfully installed pulp-2.9.0\n",
      "Note: you may need to restart the kernel to use updated packages.\n"
     ]
    }
   ],
   "source": [
    "%pip install pulp"
   ]
  },
  {
   "cell_type": "code",
   "execution_count": 4,
   "metadata": {},
   "outputs": [],
   "source": [
    "import pulp"
   ]
  },
  {
   "cell_type": "code",
   "execution_count": 19,
   "metadata": {},
   "outputs": [],
   "source": [
    "#Declaring constants\n",
    "NUM_COMPONENTS = 11"
   ]
  },
  {
   "cell_type": "code",
   "execution_count": 46,
   "metadata": {},
   "outputs": [
    {
     "name": "stdout",
     "output_type": "stream",
     "text": [
      "Optimised Perimeter of motherboard:  102.0 cm\n",
      "Width of motherboard: 33.0 Height of motherboard: 18.0\n",
      "Coordinates of Chipset (component 1):  (2.0, 11.0)\n",
      "Coordinates of Cooling Fan (component 3):  (14.0, 11.0)\n",
      "Coordinates of CMOS (component 4):  (2.0, 0.0)\n",
      "Coordinates of BIOS (component 5):  (10.0, 2.0)\n",
      "Coordinates of Power Converter (component 6):  (15.0, 2.0)\n",
      "Coordinates of USB Converter (component 7):  (18.0, 2.0)\n",
      "Coordinates of RAM Memory Stick 1 (component 8):  (21.0, 2.0)\n",
      "Coordinates of RAM Memory Stick 2 (component 9):  (24.0, 2.0)\n",
      "Coordinates of RAM Memory Stick 3 (component 10):  (27.0, 2.0)\n",
      "Coordinates of RAM Memory Stick 4 (component 11):  (30.0, 2.0)\n"
     ]
    }
   ],
   "source": [
    "# dict for the parameters [height, width] for each component\n",
    "param_dict = {\n",
    "    # For square-shaped components, \"Component name\": [component_length, component_width] \n",
    "    # For circular-shaped, \"Component name\": component_radius\n",
    "    'chipset':[5,5], \n",
    "    'cpu':[3,3], \n",
    "    'coolfan':5, \n",
    "    'cmos':3, \n",
    "    'bios':[3,3], \n",
    "    'powercon':[2,1], \n",
    "    'usb':[2,1], \n",
    "    'ram':[10,2]\n",
    "}\n",
    "\n",
    "# define the LP\n",
    "problem = pulp.LpProblem('motherboard', pulp.LpMinimize)\n",
    "\n",
    "# define variables\n",
    "p1 = 2\n",
    "p2 = 1\n",
    "x = pulp.LpVariable.dicts('x',range(1, NUM_COMPONENTS+1), lowBound=0, cat='Continuous')\n",
    "y = pulp.LpVariable.dicts('y',range(1, NUM_COMPONENTS+1), lowBound=0, cat='Continuous')\n",
    "W = pulp.LpVariable('W', lowBound=0, cat='Continuous')\n",
    "H = pulp.LpVariable('H', lowBound=0, cat='Continuous')\n",
    "\n",
    "# objective function\n",
    "problem += 2*W + 2*H\n",
    "\n",
    "# Adding horizontal constraints\n",
    "problem += x[1] - p1 >= 0\n",
    "problem += x[1] + p1 + param_dict['chipset'][1] + param_dict['coolfan'] <= x[3]\n",
    "problem += x[4] - p1 >= 0\n",
    "problem += x[4] + p1 + 2*param_dict['cmos'] <= x[5]\n",
    "problem += x[5] + p1 + param_dict['bios'][1] <= x[6]\n",
    "problem += x[6] + p1 + param_dict['powercon'][1] <= x[7]\n",
    "problem += x[7] + p1 + param_dict['usb'][1] <= x[8]\n",
    "problem += x[3] + p1 + param_dict['coolfan'] <= x[8]\n",
    "problem += x[8] + p2 + param_dict['ram'][1] <= x[9]\n",
    "problem += x[9] + p2 + param_dict['ram'][1] <= x[10]\n",
    "problem += x[10] + p2 + param_dict['ram'][1] <= x[11]\n",
    "problem += x[11] + p2 + param_dict['ram'][1] <= W\n",
    "\n",
    "# Adding vertical constraints\n",
    "problem += y[4] + p1 + param_dict['cmos'] >= 0\n",
    "problem += y[4] + p1 + param_dict['cmos'] <= y[1]\n",
    "problem += y[1] + p1 + param_dict['chipset'][0] <= H\n",
    "problem += y[5] - p1 >= 0\n",
    "problem += y[5] + p1 + param_dict['bios'][0] <= y[1]\n",
    "problem += y[6] - p1 >= 0\n",
    "problem += y[6] + p1 + param_dict['powercon'][0] + param_dict['coolfan'] <= y[3]\n",
    "problem += y[3] + p1 + param_dict['coolfan'] <= H\n",
    "problem += y[7] - p1 >= 0\n",
    "problem += y[7] + p1 + param_dict['usb'][0] + param_dict['coolfan'] <= y[3]\n",
    "problem += y[8] - p1 >= 0\n",
    "problem += y[8] + param_dict['ram'][0] <= H\n",
    "problem += y[9] - p1 >= 0\n",
    "problem += y[9] + param_dict['ram'][0] <= H\n",
    "problem += y[10] - p1 >= 0\n",
    "problem += y[10] + param_dict['ram'][0] <= H\n",
    "problem += y[11] - p1 >= 0\n",
    "problem += y[11] + param_dict['ram'][0] <= H\n",
    "\n",
    "#alignment constraints\n",
    "x[2] + 0.5*param_dict['cpu'][1] == x[3]\n",
    "x[3] + param_dict['coolfan'] == x[6]\n",
    "y[2] + 0.5*param_dict['cpu'][0] == y[3]\n",
    "\n",
    "# solve\n",
    "problem.solve(pulp.PULP_CBC_CMD(msg=0))\n",
    "\n",
    "# create dictionary with the solutions\n",
    "solution = {}\n",
    "for var in problem.variables():\n",
    "    solution[var.name] = var.varValue\n",
    "\n",
    "\n",
    "print(\"Optimised Perimeter of motherboard: \", 2*(solution[\"W\"] + solution[\"H\"]), \"cm\")\n",
    "print(\"Width of motherboard:\", solution['W'],  \"Height of motherboard:\", solution[\"H\"])\n",
    "print(f\"Coordinates of Chipset (component 1): \",(solution[\"x_1\"] , solution[\"y_1\"]))\n",
    "#TODO: what's gg on with the CPU?\n",
    "# print(f\"Coordinates of CPU (component 2): \",(solution[\"x_2\"] , solution[\"y_2\"]))\n",
    "print(f\"Coordinates of Cooling Fan (component 3): \",(solution[\"x_3\"] , solution[\"y_3\"]))\n",
    "print(f\"Coordinates of CMOS (component 4): \",(solution[\"x_4\"] , solution[\"y_4\"]))\n",
    "print(f\"Coordinates of BIOS (component 5): \",(solution[\"x_5\"] , solution[\"y_5\"]))\n",
    "print(f\"Coordinates of Power Converter (component 6): \",(solution[\"x_6\"] , solution[\"y_6\"]))\n",
    "print(f\"Coordinates of USB Converter (component 7): \",(solution[\"x_7\"] , solution[\"y_7\"]))\n",
    "print(f\"Coordinates of RAM Memory Stick 1 (component 8): \",(solution[\"x_8\"] , solution[\"y_8\"]))\n",
    "print(f\"Coordinates of RAM Memory Stick 2 (component 9): \",(solution[\"x_9\"] , solution[\"y_9\"]))\n",
    "print(f\"Coordinates of RAM Memory Stick 3 (component 10): \",(solution[\"x_10\"] , solution[\"y_10\"]))\n",
    "print(f\"Coordinates of RAM Memory Stick 4 (component 11): \",(solution[\"x_11\"] , solution[\"y_11\"]))\n",
    "\n"
   ]
  }
 ],
 "metadata": {
  "kernelspec": {
   "display_name": "env",
   "language": "python",
   "name": "python3"
  },
  "language_info": {
   "codemirror_mode": {
    "name": "ipython",
    "version": 3
   },
   "file_extension": ".py",
   "mimetype": "text/x-python",
   "name": "python",
   "nbconvert_exporter": "python",
   "pygments_lexer": "ipython3",
   "version": "3.11.0"
  }
 },
 "nbformat": 4,
 "nbformat_minor": 2
}
