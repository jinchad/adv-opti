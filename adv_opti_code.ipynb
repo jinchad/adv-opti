{
 "cells": [
  {
   "cell_type": "code",
   "execution_count": 2,
   "metadata": {},
   "outputs": [
    {
     "name": "stdout",
     "output_type": "stream",
     "text": [
      "Collecting pulp\n",
      "  Using cached PuLP-2.9.0-py3-none-any.whl.metadata (5.4 kB)\n",
      "Using cached PuLP-2.9.0-py3-none-any.whl (17.7 MB)\n",
      "Installing collected packages: pulp\n",
      "Successfully installed pulp-2.9.0\n",
      "Note: you may need to restart the kernel to use updated packages.\n"
     ]
    }
   ],
   "source": [
    "%pip install pulp"
   ]
  },
  {
   "cell_type": "code",
   "execution_count": 1,
   "metadata": {},
   "outputs": [],
   "source": [
    "import pulp"
   ]
  },
  {
   "cell_type": "code",
   "execution_count": null,
   "metadata": {},
   "outputs": [],
   "source": [
    "# dict for the parameters [height, width] for each component\n",
    "param_dict = {'chipset':[,], 'cpu':[,], 'coolfan':, 'cmos':, 'bios':[,], 'powercon':[,], 'usb':[,], 'ram':[,]}\n",
    "\n",
    "# define the LP\n",
    "problem = pulp.LpProblem('motherboard', pulp.LpMinimize)\n",
    "\n",
    "# define variables\n",
    "p = pulp.LpVariable.dicts('p',[1,2], cat='Continuous')\n",
    "x = pulp.LpVariable.dicts('x',range(1,len(param_dict)+1), cat='Continuous')\n",
    "y = pulp.LpVariable.dicts('y',range(1,len(param_dict)+1), cat='Continuous')\n",
    "W = pulp.LpVariable('W', cat='Continuous')\n",
    "H = pulp.LpVariable('H', cat='Continuous')\n",
    "\n",
    "# objective function\n",
    "problem += 2*W + 2*H\n",
    "\n",
    "# hori constraints\n",
    "problem += x[1] - p[1] >= 0\n",
    "problem += x[1] + p[1] + param_dict['chipset'][1] + param_dict['coolfan'] <= x[3]\n",
    "problem += x[4] + p[1] >= 0\n",
    "problem += x[4] + p[1] + 2*param_dict['cmos'] <= x[5]\n",
    "problem += x[5] + p[1] + param_dict['bios'][1] <= x[6]\n",
    "problem += x[6] + p[1] + param_dict['powercon'][1] <= x[7]\n",
    "problem += x[7] + p[1] + param_dict['usb'][1] <= x[8]\n",
    "problem += x[3] + p[1] + param_dict['coolfan'] <= x[8]\n",
    "problem += x[8] + p[2] + param_dict['ram'][1] <= x[9]\n",
    "problem += x[9] + p[2] + param_dict['ram'][1] <= x[10]\n",
    "problem += x[10] + p[2] + param_dict['ram'][1] <= x[11]\n",
    "problem += x[11] + p[2] + param_dict['ram'][1] <= W\n",
    "\n",
    "#vert constraints\n",
    "problem += y[4] + p[1] + param_dict['cmos'] >= 0\n",
    "problem += y[4] + p[1] + param_dict['cmos'] <= y[1]\n",
    "problem += y[1] + p[1] + param_dict['chipset'][0] <= H\n",
    "problem += y[5] + p[1] >= 0\n",
    "problem += y[5] + p[1] + param_dict['bios'][0] <= y[1]\n",
    "problem += y[6] + p[1] >= 0\n",
    "problem += y[6] + p[1] + param_dict['powercon'][0] + param_dict['coolfan'] <= y[3]\n",
    "problem += y[3] + p[1] + param_dict['coolfan'] <= H\n",
    "problem += y[7] + p[1] >= 0\n",
    "problem += y[7] + p[1] + param_dict['usb'][0] + param_dict['coolfan'] <= y[3]\n",
    "problem += y[8] + p[1] >= 0\n",
    "problem += y[8] + param_dict['ram'][0] <= H\n",
    "problem += y[9] + p[1] >= 0\n",
    "problem += y[9] + param_dict['ram'][0] <= H\n",
    "problem += y[10] + p[1] >= 0\n",
    "problem += y[10] + param_dict['ram'][0] <= H\n",
    "problem += y[11] + p[1] >= 0\n",
    "problem += y[11] + param_dict['ram'][0] <= H\n",
    "\n",
    "#alignment constraints\n",
    "x[2] + 0.5*param_dict['cpu'][1] = x[3]\n",
    "x[3] + param_dict['coolfan'] = x[6]\n",
    "y[2] + 0.5*param_dict['cpu'][0] = y[3]"
   ]
  }
 ],
 "metadata": {
  "kernelspec": {
   "display_name": "env",
   "language": "python",
   "name": "python3"
  },
  "language_info": {
   "codemirror_mode": {
    "name": "ipython",
    "version": 3
   },
   "file_extension": ".py",
   "mimetype": "text/x-python",
   "name": "python",
   "nbconvert_exporter": "python",
   "pygments_lexer": "ipython3",
   "version": "3.12.0"
  }
 },
 "nbformat": 4,
 "nbformat_minor": 2
}
