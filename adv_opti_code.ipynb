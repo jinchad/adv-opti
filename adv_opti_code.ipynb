{
 "cells": [
  {
   "cell_type": "code",
   "execution_count": null,
   "metadata": {},
   "outputs": [],
   "source": [
    "import pulp"
   ]
  },
  {
   "cell_type": "code",
   "execution_count": null,
   "metadata": {},
   "outputs": [],
   "source": [
    "#Declaring constants\n",
    "NUM_COMPONENTS = 11"
   ]
  },
  {
   "cell_type": "code",
   "execution_count": null,
   "metadata": {},
   "outputs": [],
   "source": [
    "# dict for the parameters [height, width] for each component\n",
    "param_dict = {\n",
    "    # For square-shaped components, \"Component name\": [component_length, component_width] \n",
    "    # For circular-shaped, \"Component name\": component_radius\n",
    "    'chipset':[5,5], \n",
    "    'cpu':[3,3], \n",
    "    'coolfan': 5, \n",
    "    'cmos':2, \n",
    "    'bios':[3,3], \n",
    "    'powercon':[1,2], \n",
    "    'usb':[1,2], \n",
    "    'ram':[12,2]\n",
    "}\n",
    "\n",
    "# define the LP\n",
    "problem = pulp.LpProblem('motherboard', pulp.LpMinimize)\n",
    "\n",
    "# define variables\n",
    "p1 = pulp.LpVariable('p1', lowBound=1, cat='Continuous')\n",
    "p2 = pulp.LpVariable('p2', lowBound=0.8, cat='Continuous')\n",
    "x = pulp.LpVariable.dicts('x',range(1, NUM_COMPONENTS+1), lowBound=0, cat='Continuous')\n",
    "y = pulp.LpVariable.dicts('y',range(1, NUM_COMPONENTS+1), lowBound=0, cat='Continuous')\n",
    "width = pulp.LpVariable('width', lowBound=0, cat='Continuous')\n",
    "height = pulp.LpVariable('height', lowBound=0, cat='Continuous')\n",
    "\n"
   ]
  },
  {
   "cell_type": "markdown",
   "metadata": {},
   "source": [
    "Adding the objective function to the minimization problem"
   ]
  },
  {
   "cell_type": "code",
   "execution_count": null,
   "metadata": {},
   "outputs": [],
   "source": [
    "# objective function\n",
    "problem += 2*width + 2*height"
   ]
  },
  {
   "cell_type": "markdown",
   "metadata": {},
   "source": [
    "Adding horizontal constraints"
   ]
  },
  {
   "cell_type": "code",
   "execution_count": null,
   "metadata": {},
   "outputs": [],
   "source": [
    "# Adding horizontal constraints\n",
    "problem += x[1] - p1 >= 0\n",
    "problem += x[1] + p1 + param_dict['chipset'][1] + param_dict['coolfan'] <= x[3]\n",
    "problem += x[4] - p1 - param_dict['cmos'] >= 0 \n",
    "# problem += x[3] + param_dict['coolfan'] == x[6]\n",
    "problem += x[5] + param_dict['bios'] + param_dict['coolfan'] <= x[3]\n",
    "problem += x[4] + p1 + param_dict['cmos'] <= x[5]\n",
    "problem += x[5] + p1 + param_dict['bios'][1] <= x[6]\n",
    "problem += x[6] + p1 + param_dict['powercon'][1] <= x[7]\n",
    "problem += x[7] + p1 + param_dict['usb'][1] <= x[8]\n",
    "problem += x[3] + p1 + param_dict['coolfan'] <= x[8]\n",
    "problem += x[8] + p2 + param_dict['ram'][1] <= x[9]\n",
    "problem += x[9] + p2 + param_dict['ram'][1] <= x[10]\n",
    "problem += x[10] + p2 + param_dict['ram'][1] <= x[11]\n",
    "problem += x[11] + p2 + param_dict['ram'][1] <= width\n"
   ]
  },
  {
   "cell_type": "markdown",
   "metadata": {},
   "source": [
    "Adding vertical constraints"
   ]
  },
  {
   "cell_type": "code",
   "execution_count": null,
   "metadata": {},
   "outputs": [],
   "source": [
    "\n",
    "# Adding vertical constraints\n",
    "problem += y[4] - p1 - param_dict['cmos'] >= 0\n",
    "problem += y[4] + p1 + param_dict['cmos'] <= y[1]\n",
    "problem += y[1] + p1 + param_dict['chipset'][0] <= height\n",
    "problem += y[5] - p1 >= 0\n",
    "problem += y[5] + p1 + param_dict['bios'][0] <= y[1]\n",
    "problem += y[6] - p1 >= 0\n",
    "problem += y[6] + p1 + param_dict['powercon'][0] + param_dict['coolfan'] <= y[3]\n",
    "problem += y[3] + p1 + param_dict['coolfan'] <= height\n",
    "problem += y[7] - p1 >= 0\n",
    "problem += y[7] + p1 + param_dict['usb'][0] + param_dict['coolfan'] <= y[3]\n",
    "problem += y[8] - p1 >= 0\n",
    "problem += y[8] + param_dict['ram'][0] + p2 <= height\n",
    "problem += y[9] - p1 >= 0\n",
    "problem += y[9] + param_dict['ram'][0] + p2 <= height\n",
    "problem += y[10] - p1 >= 0\n",
    "problem += y[10] + param_dict['ram'][0] + p2 <= height\n",
    "problem += y[11] - p1 >= 0\n",
    "problem += y[11] + param_dict['ram'][0] + p2 <= height\n"
   ]
  },
  {
   "cell_type": "markdown",
   "metadata": {},
   "source": [
    "Adding alignment constraints for components"
   ]
  },
  {
   "cell_type": "code",
   "execution_count": null,
   "metadata": {},
   "outputs": [],
   "source": [
    "\n",
    "#alignment constraints\n",
    "problem += x[2] + 0.5*param_dict['cpu'][1] == x[3]\n",
    "problem += (x[6] + param_dict['powercon'] + x[7])/2 == x[3]\n",
    "problem += (x[4] + param_dict['cmos'] + x[5])/2 == x[1] + 0.5*param_dict['chipset'][1]\n",
    "problem += y[2] + 0.5*param_dict['cpu'][0] == y[3]\n"
   ]
  },
  {
   "cell_type": "code",
   "execution_count": null,
   "metadata": {},
   "outputs": [],
   "source": [
    "# problem += param_dict['ram'][0] / 0.8 <= height"
   ]
  },
  {
   "cell_type": "markdown",
   "metadata": {},
   "source": [
    "Solving the problem"
   ]
  },
  {
   "cell_type": "code",
   "execution_count": null,
   "metadata": {},
   "outputs": [],
   "source": [
    "# solving the problem\n",
    "problem.solve(pulp.PULP_CBC_CMD(msg=0))\n",
    "\n",
    "# create dictionary with the solutions\n",
    "solution = {}\n",
    "for var in problem.variables():\n",
    "    solution[var.name] = var.varValue"
   ]
  },
  {
   "cell_type": "code",
   "execution_count": null,
   "metadata": {},
   "outputs": [],
   "source": [
    "\n",
    "print(solution)\n",
    "# print(\"Optimised Perimeter of motherboard: \", 2*(solution[\"width\"] + solution[\"height\"]), \"cm\")\n",
    "# print(\"Width of motherboard:\", solution['width'],  \"Height of motherboard:\", solution[\"height\"])\n",
    "# print(f\"Coordinates of Chipset (component 1): \",(solution[\"x_1\"] , solution[\"y_1\"]))\n",
    "# print(f\"Coordinates of CPU (component 2): \",(solution[\"x_2\"] , solution[\"y_2\"]))\n",
    "# print(f\"Coordinates of Cooling Fan (component 3): \",(solution[\"x_3\"] , solution[\"y_3\"]))\n",
    "# print(f\"Coordinates of CMOS (component 4): \",(solution[\"x_4\"] , solution[\"y_4\"]))\n",
    "# print(f\"Coordinates of BIOS (component 5): \",(solution[\"x_5\"] , solution[\"y_5\"]))\n",
    "# print(f\"Coordinates of Power Converter (component 6): \",(solution[\"x_6\"] , solution[\"y_6\"]))\n",
    "# print(f\"Coordinates of USB Converter (component 7): \",(solution[\"x_7\"] , solution[\"y_7\"]))\n",
    "# print(f\"Coordinates of RAM Memory Stick 1 (component 8): \",(solution[\"x_8\"] , solution[\"y_8\"]))\n",
    "# print(f\"Coordinates of RAM Memory Stick 2 (component 9): \",(solution[\"x_9\"] , solution[\"y_9\"]))\n",
    "# print(f\"Coordinates of RAM Memory Stick 3 (component 10): \",(solution[\"x_10\"] , solution[\"y_10\"]))\n",
    "# print(f\"Coordinates of RAM Memory Stick 4 (component 11): \",(solution[\"x_11\"] , solution[\"y_11\"]))"
   ]
  },
  {
   "cell_type": "markdown",
   "metadata": {},
   "source": [
    "Visualisation of the motherboard with matplotlib"
   ]
  },
  {
   "cell_type": "code",
   "execution_count": null,
   "metadata": {},
   "outputs": [],
   "source": [
    "import numpy as np\n",
    "import matplotlib.pyplot as plt\n",
    "from matplotlib.patches import Rectangle, Circle\n",
    "\n",
    "# Example component sizes and positions (x, y, width, height)\n",
    "rectangular_components = [\n",
    "    {'name': 'Chipset', 'x': solution[\"x_1\"], 'y': solution[\"y_1\"], 'width': param_dict[\"chipset\"][1], 'height': param_dict[\"chipset\"][0]},\n",
    "    {'name': 'CPU', 'x': solution[\"x_2\"], 'y': solution[\"y_2\"], 'width': param_dict[\"cpu\"][1], 'height': param_dict[\"cpu\"][0]},\n",
    "    {'name': 'BIOS', 'x': solution[\"x_5\"], 'y': solution[\"y_5\"], 'width': param_dict[\"bios\"][1], 'height': param_dict[\"bios\"][0]},\n",
    "    {'name': 'Power Converter', 'x': solution[\"x_6\"], 'y': solution[\"y_6\"], 'width': param_dict[\"powercon\"][1], 'height': param_dict[\"powercon\"][0]},\n",
    "    {'name': 'USB Converter', 'x': solution[\"x_7\"], 'y': solution[\"y_7\"], 'width': param_dict[\"usb\"][1], 'height': param_dict[\"usb\"][0]},\n",
    "    {'name': 'Ram Memory Stick 1', 'x': solution[\"x_8\"], 'y': solution[\"y_8\"], 'width': param_dict[\"ram\"][1], 'height': param_dict[\"ram\"][0]},\n",
    "    {'name': 'Ram Memory Stick 2', 'x': solution[\"x_9\"], 'y': solution[\"y_9\"], 'width': param_dict[\"ram\"][1], 'height': param_dict[\"ram\"][0]},\n",
    "    {'name': 'Ram Memory Stick 3', 'x': solution[\"x_10\"], 'y': solution[\"y_10\"], 'width': param_dict[\"ram\"][1], 'height': param_dict[\"ram\"][0]},\n",
    "    {'name': 'Ram Memory Stick 4', 'x': solution[\"x_11\"], 'y': solution[\"y_11\"], 'width': param_dict[\"ram\"][1], 'height': param_dict[\"ram\"][0]},\n",
    "\n",
    "]\n",
    "\n",
    "circular_components = [\n",
    "    {'name': 'Cooling fan', 'x': solution[\"x_3\"], 'y': solution[\"y_3\"], 'radius': param_dict[\"coolfan\"]},\n",
    "    {'name': 'CMOS', 'x': solution[\"x_4\"], 'y': solution[\"y_4\"], 'radius': param_dict[\"cmos\"]},\n",
    "\n",
    "]\n",
    "\n",
    "# Create a figure and axis\n",
    "fig, ax = plt.subplots()\n",
    "\n",
    "for component in circular_components:\n",
    "    circle = Circle((component[\"x\"], component[\"y\"]), radius=component['radius'], edgecolor='black', facecolor='skyblue', lw=2)\n",
    "    ax.add_patch(circle)\n",
    "    ax.text(component['x'],  component['y'], component['name'], fontsize=10, ha='center', va='center')\n",
    "\n",
    "# Draw the rectangles (components)\n",
    "for component in rectangular_components:\n",
    "    rect = Rectangle((component['x'], component['y']), component['width'], component['height'],\n",
    "                     edgecolor='black', facecolor='skyblue', lw=2)\n",
    "    ax.add_patch(rect)\n",
    "    # Add text to label the component\n",
    "    cx = component['x'] + component['width'] / 2\n",
    "    cy = component['y'] + component['height'] / 2\n",
    "    ax.text(cx, cy, component['name'], fontsize=10, ha='center', va='center')\n",
    "\n",
    "\n",
    "\n",
    "# Set the limits of the plot based on the components' sizes\n",
    "ax.set_xlim(0, solution[\"width\"])\n",
    "ax.set_ylim(0, solution[\"height\"])\n",
    "\n",
    "# Set labels and title\n",
    "ax.set_xlabel('Width (cm)')\n",
    "ax.set_ylabel('Height (cm)')\n",
    "ax.set_title('Floor Plan Visualization')\n",
    "\n",
    "# Display the plot\n",
    "plt.gca().set_aspect('equal', adjustable='box')\n",
    "plt.grid(True)\n",
    "plt.show()\n"
   ]
  }
 ],
 "metadata": {
  "kernelspec": {
   "display_name": "Python 3",
   "language": "python",
   "name": "python3"
  },
  "language_info": {
   "codemirror_mode": {
    "name": "ipython",
    "version": 3
   },
   "file_extension": ".py",
   "mimetype": "text/x-python",
   "name": "python",
   "nbconvert_exporter": "python",
   "pygments_lexer": "ipython3",
   "version": "3.11.0"
  }
 },
 "nbformat": 4,
 "nbformat_minor": 2
}
