{
 "cells": [
  {
   "cell_type": "code",
   "execution_count": 2,
   "metadata": {},
   "outputs": [
    {
     "name": "stdout",
     "output_type": "stream",
     "text": [
      "Collecting pulp\n",
      "  Using cached PuLP-2.9.0-py3-none-any.whl.metadata (5.4 kB)\n",
      "Using cached PuLP-2.9.0-py3-none-any.whl (17.7 MB)\n",
      "Installing collected packages: pulp\n",
      "Successfully installed pulp-2.9.0\n",
      "Note: you may need to restart the kernel to use updated packages.\n"
     ]
    }
   ],
   "source": [
    "%pip install pulp"
   ]
  },
  {
   "cell_type": "code",
   "execution_count": 4,
   "metadata": {},
   "outputs": [],
   "source": [
    "import pulp"
   ]
  },
  {
   "cell_type": "code",
   "execution_count": 9,
   "metadata": {},
   "outputs": [
    {
     "name": "stdout",
     "output_type": "stream",
     "text": [
      "{1: x_1, 2: x_2, 3: x_3, 4: x_4, 5: x_5, 6: x_6, 7: x_7, 8: x_8, 9: x_9, 10: x_10, 11: x_11}\n",
      "Welcome to the CBC MILP Solver \n",
      "Version: 2.10.3 \n",
      "Build Date: Dec 15 2019 \n",
      "\n",
      "command line - /Users/jin/Documents/GitHub/adv-opti/venv/lib/python3.11/site-packages/pulp/solverdir/cbc/osx/64/cbc /var/folders/gt/q99q3ns57l75nmgnyb_khwnm0000gn/T/cecd2affa9744fe99e3f6548f76b81e8-pulp.mps -timeMode elapsed -branch -printingOptions all -solution /var/folders/gt/q99q3ns57l75nmgnyb_khwnm0000gn/T/cecd2affa9744fe99e3f6548f76b81e8-pulp.sol (default strategy 1)\n",
      "At line 2 NAME          MODEL\n",
      "At line 3 ROWS\n",
      "At line 35 COLUMNS\n",
      "At line 114 RHS\n",
      "At line 145 BOUNDS\n",
      "At line 148 ENDATA\n",
      "Problem MODEL has 30 rows, 24 columns and 76 elements\n",
      "Coin0008I MODEL read with 0 errors\n",
      "Option for timeMode changed from cpu to elapsed\n",
      "Presolve 11 (-19) rows, 8 (-16) columns and 28 (-48) elements\n",
      "Perturbing problem by 0.001% of 2 - largest nonzero change 0.00010342582 ( 0.0051712911%) - largest zero change 8.3259078e-05\n",
      "0  Obj 4.0002069 Primal inf 25.999994 (6)\n",
      "9  Obj 14.002857\n",
      "Optimal - objective value 14\n",
      "After Postsolve, objective 14, infeasibilities - dual 0 (0), primal 0 (0)\n",
      "Optimal objective 14 - 9 iterations time 0.002, Presolve 0.00\n",
      "Option for printingOptions changed from normal to all\n",
      "Total time (CPU seconds):       0.00   (Wallclock seconds):       0.02\n",
      "\n",
      "W H\n"
     ]
    }
   ],
   "source": [
    "# dict for the parameters [height, width] for each component\n",
    "param_dict = {'chipset':[5,5], 'cpu':[3,3], 'coolfan':5, 'cmos':3, 'bios':[3,3], 'powercon':[2,1], 'usb':[2,1], 'ram':[2,10]}\n",
    "\n",
    "# define the LP\n",
    "problem = pulp.LpProblem('motherboard', pulp.LpMinimize)\n",
    "\n",
    "# define variables\n",
    "p = pulp.LpVariable.dicts('p',[1,2], cat='Continuous')\n",
    "x = pulp.LpVariable.dicts('x',range(1, 12), lowBound=0, cat='Continuous')\n",
    "print(x)\n",
    "y = pulp.LpVariable.dicts('y',range(1,12), lowBound=0, cat='Continuous')\n",
    "W = pulp.LpVariable('W', lowBound=0, cat='Continuous')\n",
    "H = pulp.LpVariable('H', lowBound=0, cat='Continuous')\n",
    "\n",
    "# objective function\n",
    "problem += 2*W + 2*H\n",
    "\n",
    "# hori constraints\n",
    "problem += x[1] - p[1] >= 0\n",
    "problem += x[1] + p[1] + param_dict['chipset'][1] + param_dict['coolfan'] <= x[3]\n",
    "problem += x[4] + p[1] >= 0\n",
    "problem += x[4] + p[1] + 2*param_dict['cmos'] <= x[5]\n",
    "problem += x[5] + p[1] + param_dict['bios'][1] <= x[6]\n",
    "problem += x[6] + p[1] + param_dict['powercon'][1] <= x[7]\n",
    "problem += x[7] + p[1] + param_dict['usb'][1] <= x[8]\n",
    "problem += x[3] + p[1] + param_dict['coolfan'] <= x[8]\n",
    "problem += x[8] + p[2] + param_dict['ram'][1] <= x[9]\n",
    "problem += x[9] + p[2] + param_dict['ram'][1] <= x[10]\n",
    "problem += x[10] + p[2] + param_dict['ram'][1] <= x[11]\n",
    "problem += x[11] + p[2] + param_dict['ram'][1] <= W\n",
    "\n",
    "#vert constraints\n",
    "problem += y[4] + p[1] + param_dict['cmos'] >= 0\n",
    "problem += y[4] + p[1] + param_dict['cmos'] <= y[1]\n",
    "problem += y[1] + p[1] + param_dict['chipset'][0] <= H\n",
    "problem += y[5] + p[1] >= 0\n",
    "problem += y[5] + p[1] + param_dict['bios'][0] <= y[1]\n",
    "problem += y[6] + p[1] >= 0\n",
    "problem += y[6] + p[1] + param_dict['powercon'][0] + param_dict['coolfan'] <= y[3]\n",
    "problem += y[3] + p[1] + param_dict['coolfan'] <= H\n",
    "problem += y[7] + p[1] >= 0\n",
    "problem += y[7] + p[1] + param_dict['usb'][0] + param_dict['coolfan'] <= y[3]\n",
    "problem += y[8] + p[1] >= 0\n",
    "problem += y[8] + param_dict['ram'][0] <= H\n",
    "problem += y[9] + p[1] >= 0\n",
    "problem += y[9] + param_dict['ram'][0] <= H\n",
    "problem += y[10] + p[1] >= 0\n",
    "problem += y[10] + param_dict['ram'][0] <= H\n",
    "problem += y[11] + p[1] >= 0\n",
    "problem += y[11] + param_dict['ram'][0] <= H\n",
    "\n",
    "#alignment constraints\n",
    "x[2] + 0.5*param_dict['cpu'][1] == x[3]\n",
    "x[3] + param_dict['coolfan'] == x[6]\n",
    "y[2] + 0.5*param_dict['cpu'][0] == y[3]\n",
    "\n",
    "# solve\n",
    "problem.solve()\n",
    "\n",
    "# create dictionary with the solutions\n",
    "solution = {}\n",
    "for var in problem.variables():\n",
    "    solution[var.name] = var.varValue\n",
    "\n",
    "print(W, H)"
   ]
  }
 ],
 "metadata": {
  "kernelspec": {
   "display_name": "env",
   "language": "python",
   "name": "python3"
  },
  "language_info": {
   "codemirror_mode": {
    "name": "ipython",
    "version": 3
   },
   "file_extension": ".py",
   "mimetype": "text/x-python",
   "name": "python",
   "nbconvert_exporter": "python",
   "pygments_lexer": "ipython3",
   "version": "3.11.0"
  }
 },
 "nbformat": 4,
 "nbformat_minor": 2
}
